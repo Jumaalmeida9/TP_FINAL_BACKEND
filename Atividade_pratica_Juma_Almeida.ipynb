{
  "nbformat": 4,
  "nbformat_minor": 0,
  "metadata": {
    "colab": {
      "provenance": [],
      "authorship_tag": "ABX9TyPC0ZDdMu0iwUzj0GwunPQG",
      "include_colab_link": true
    },
    "kernelspec": {
      "name": "python3",
      "display_name": "Python 3"
    },
    "language_info": {
      "name": "python"
    }
  },
  "cells": [
    {
      "cell_type": "markdown",
      "metadata": {
        "id": "view-in-github",
        "colab_type": "text"
      },
      "source": [
        "<a href=\"https://colab.research.google.com/github/Jumaalmeida9/TP_FINAL_BACKEND/blob/main/Atividade_pratica_Juma_Almeida.ipynb\" target=\"_parent\"><img src=\"https://colab.research.google.com/assets/colab-badge.svg\" alt=\"Open In Colab\"/></a>"
      ]
    },
    {
      "cell_type": "code",
      "execution_count": null,
      "metadata": {
        "id": "0oUxOX48OlnI"
      },
      "outputs": [],
      "source": [
        "# prompt: leia o arquivo titanic.csv\n",
        "\n",
        "import pandas as pd\n",
        "from sklearn.model_selection import train_test_split\n",
        "\n",
        "# Read the Titanic CSV file into a DataFrame\n",
        "df = pd.read_csv('titanic.csv')\n",
        "\n",
        "# Display the first few rows of the DataFrame\n",
        "#titanic.head()\n",
        "\n",
        "features = ['Pclass','Sex','Age','Fare','SibSp','Parch',]\n",
        "\n",
        "X = df[features] #selecionando os atributos\n",
        "X['Sex'] =X['Sex'].map({'male':0,'female':1})\n",
        "\n",
        "y = df['Survived']\n",
        "\n",
        "X = X.fillna(X.mean())#trocando os dados corrompidos pela média da coluna\n",
        "\n",
        "X_train, X_test, y_train, y_test = train_test_split(X,y, test_size=0.2, random_state=42)\n",
        "\n"
      ]
    },
    {
      "cell_type": "markdown",
      "source": [
        "Classificador Árvore de Decisão"
      ],
      "metadata": {
        "id": "fBLN60kGmao8"
      }
    },
    {
      "cell_type": "code",
      "source": [],
      "metadata": {
        "id": "nPHg65eFoLAt"
      },
      "execution_count": null,
      "outputs": []
    },
    {
      "cell_type": "code",
      "source": [
        "# Read the Titanic CSV file into a DataFrame\n",
        "df = pd.read_csv('titanic.csv')\n",
        "\n",
        "# Display the first few rows of the DataFrame\n",
        "#titanic.head()\n",
        "\n",
        "features = ['Pclass','Sex','Age','Fare','SibSp','Parch']\n",
        "\n",
        "X = df[features] #selecionando os atributos\n",
        "X['Sex'] =X['Sex'].map({'male':0,'female':1})\n",
        "\n",
        "y = df['Survived']\n",
        "\n",
        "X = X.fillna(X.mean())#trocando os dados corrompidos pela média da coluna\n",
        "\n",
        "X_train, X_test, y_train, y_test = train_test_split(X,y, test_size=0.2, random_state=42)\n",
        "\n",
        "\n",
        "from sklearn.tree import DecisionTreeClassifier\n",
        "from sklearn.tree import export_text\n",
        "from sklearn.metrics import accuracy_score\n",
        "\n",
        "#criando o classificador\n",
        "decision_tree_classifier = DecisionTreeClassifier()\n",
        "\n",
        "decision_tree_classifier.fit(X_train, y_train)\n",
        "\n",
        "tree_rules = export_text(decision_tree_classifier, feature_names=features)\n",
        "\n",
        "#print(tree_rules)\n",
        "\n",
        "predictions = decision_tree_classifier.predict(X_test)\n",
        "\n",
        "accuracy = accuracy_score(y_test, predictions)\n",
        "\n",
        "print(\"Precisão:\", accuracy)"
      ],
      "metadata": {
        "colab": {
          "base_uri": "https://localhost:8080/"
        },
        "id": "bJxs1-KjmlBU",
        "outputId": "468e4b86-23ee-46d7-e181-8027a6130691"
      },
      "execution_count": 26,
      "outputs": [
        {
          "output_type": "stream",
          "name": "stdout",
          "text": [
            "Precisão: 0.7597765363128491\n"
          ]
        },
        {
          "output_type": "stream",
          "name": "stderr",
          "text": [
            "<ipython-input-26-64a16da0de90>:10: SettingWithCopyWarning: \n",
            "A value is trying to be set on a copy of a slice from a DataFrame.\n",
            "Try using .loc[row_indexer,col_indexer] = value instead\n",
            "\n",
            "See the caveats in the documentation: https://pandas.pydata.org/pandas-docs/stable/user_guide/indexing.html#returning-a-view-versus-a-copy\n",
            "  X['Sex'] =X['Sex'].map({'male':0,'female':1})\n"
          ]
        }
      ]
    }
  ]
}